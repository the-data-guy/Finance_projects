{
 "cells": [
  {
   "cell_type": "markdown",
   "metadata": {
    "colab_type": "text",
    "id": "vUxZ6yCDQVw7"
   },
   "source": [
    "# Extracting historical price data of cryptocurrencies, from https://coinmarketcap.com. \n"
   ]
  },
  {
   "cell_type": "markdown",
   "metadata": {
    "colab_type": "text",
    "id": "jX4O0STONvtm"
   },
   "source": [
    "# Full Code"
   ]
  },
  {
   "cell_type": "code",
   "execution_count": 2,
   "metadata": {
    "colab": {
     "autoexec": {
      "startup": false,
      "wait_interval": 0
     },
     "base_uri": "https://localhost:8080/",
     "height": 34,
     "output_extras": [
      {
       "item_id": 1
      }
     ]
    },
    "colab_type": "code",
    "collapsed": true,
    "executionInfo": {
     "elapsed": 10997,
     "status": "ok",
     "timestamp": 1519685042748,
     "user": {
      "displayName": "Siavash Fahimi",
      "photoUrl": "//lh6.googleusercontent.com/-up4qQrxDTS8/AAAAAAAAAAI/AAAAAAAAAA8/Ur690oI3y3o/s50-c-k-no/photo.jpg",
      "userId": "115818752764157619428"
     },
     "user_tz": 480
    },
    "id": "R312y6JSrGR9",
    "outputId": "5eeae332-2e90-469d-ece6-893a8d7084b5"
   },
   "outputs": [],
   "source": [
    "# importing necessary libraries:\n",
    "import pandas as pd\n",
    "import numpy as np\n",
    "\n",
    "import time\n",
    "import datetime\n",
    "import gc"
   ]
  },
  {
   "cell_type": "code",
   "execution_count": 4,
   "metadata": {},
   "outputs": [],
   "source": [
    "def get_market_data(market, tag=True):\n",
    "  \"\"\"\n",
    "  market: the full name of the cryptocurrency as spelled on coinmarketcap.com. eg.: 'bitcoin'\n",
    "  tag: (e.g. 'btc') if provided, it will add a tag to the name of every column.\n",
    "  returns: a panda DataFrame\n",
    "  This function will use the coinmarketcap.com url for provided coin/token page. \n",
    "  Fetching the OHLCV and Market Cap.\n",
    "  Converting the date format to be more understandable. \n",
    "  Ensuring that the data is consistent by converting non_numeric values (if any) to a number very close to 0.\n",
    "  \"\"\"\n",
    "  market_data = pd.read_html(\"https://coinmarketcap.com/currencies/\" + market + \n",
    "                             \"/historical-data/?start=20130428&end=\"+time.strftime(\"%Y%m%d\"), flavor='html5lib')[0]\n",
    "  market_data = market_data.assign(Date=pd.to_datetime(market_data['Date']))  \n",
    "  market_data['Volume'] = (pd.to_numeric(market_data['Volume'], errors='coerce').fillna(0))\n",
    "  if tag:\n",
    "    market_data.columns = [market_data.columns[0]] + [tag + '_' + i for i in market_data.columns[1:]]\n",
    "  return market_data"
   ]
  },
  {
   "cell_type": "code",
   "execution_count": 16,
   "metadata": {
    "colab": {
     "autoexec": {
      "startup": false,
      "wait_interval": 0
     }
    },
    "colab_type": "code",
    "id": "POobtVVWYigo"
   },
   "outputs": [],
   "source": [
    "# using the function created/defined above, to fetch data of cryptocurrencies \n",
    "# using API of www.coinmarketcap.com\n",
    "btc_data = get_market_data(\"bitcoin\", tag='btc')\n",
    "eth_data = get_market_data(\"ethereum\", tag='eth')\n",
    "xrp_data = get_market_data(\"ripple\", tag='xrp')\n",
    "ltc_data = get_market_data(\"litecoin\", tag='ltc')\n",
    "xlm_data = get_market_data(\"stellar\", tag='xlm')\n",
    "xmr_data = get_market_data(\"monero\", tag='xmr')\n",
    "dash_data = get_market_data(\"dash\", tag='dash')\n",
    "xem_data = get_market_data(\"nem\", tag='xem')"
   ]
  },
  {
   "cell_type": "code",
   "execution_count": 17,
   "metadata": {
    "colab": {
     "autoexec": {
      "startup": false,
      "wait_interval": 0
     },
     "base_uri": "https://localhost:8080/",
     "height": 204,
     "output_extras": [
      {
       "item_id": 1
      }
     ]
    },
    "colab_type": "code",
    "executionInfo": {
     "elapsed": 313,
     "status": "ok",
     "timestamp": 1519685084447,
     "user": {
      "displayName": "Siavash Fahimi",
      "photoUrl": "//lh6.googleusercontent.com/-up4qQrxDTS8/AAAAAAAAAAI/AAAAAAAAAA8/Ur690oI3y3o/s50-c-k-no/photo.jpg",
      "userId": "115818752764157619428"
     },
     "user_tz": 480
    },
    "id": "cs-Y0-68Sfrd",
    "outputId": "c8109774-a0bf-4ad7-eee0-adc8a38ac560"
   },
   "outputs": [
    {
     "data": {
      "text/plain": [
       "1029"
      ]
     },
     "execution_count": 17,
     "metadata": {},
     "output_type": "execute_result"
    }
   ],
   "source": [
    "# counting how many daily data points have we got: for ethereum in this case\n",
    "len(eth_data)"
   ]
  },
  {
   "cell_type": "code",
   "execution_count": 18,
   "metadata": {},
   "outputs": [
    {
     "data": {
      "text/html": [
       "<div>\n",
       "<style>\n",
       "    .dataframe thead tr:only-child th {\n",
       "        text-align: right;\n",
       "    }\n",
       "\n",
       "    .dataframe thead th {\n",
       "        text-align: left;\n",
       "    }\n",
       "\n",
       "    .dataframe tbody tr th {\n",
       "        vertical-align: top;\n",
       "    }\n",
       "</style>\n",
       "<table border=\"1\" class=\"dataframe\">\n",
       "  <thead>\n",
       "    <tr style=\"text-align: right;\">\n",
       "      <th></th>\n",
       "      <th>Date</th>\n",
       "      <th>xrp_Open*</th>\n",
       "      <th>xrp_High</th>\n",
       "      <th>xrp_Low</th>\n",
       "      <th>xrp_Close**</th>\n",
       "      <th>xrp_Volume</th>\n",
       "      <th>xrp_Market Cap</th>\n",
       "    </tr>\n",
       "  </thead>\n",
       "  <tbody>\n",
       "    <tr>\n",
       "      <th>0</th>\n",
       "      <td>2018-05-31</td>\n",
       "      <td>0.603452</td>\n",
       "      <td>0.621636</td>\n",
       "      <td>0.596089</td>\n",
       "      <td>0.612622</td>\n",
       "      <td>283328000.0</td>\n",
       "      <td>23649300000</td>\n",
       "    </tr>\n",
       "    <tr>\n",
       "      <th>1</th>\n",
       "      <td>2018-05-30</td>\n",
       "      <td>0.603769</td>\n",
       "      <td>0.627679</td>\n",
       "      <td>0.590058</td>\n",
       "      <td>0.605817</td>\n",
       "      <td>320605000.0</td>\n",
       "      <td>23661700000</td>\n",
       "    </tr>\n",
       "    <tr>\n",
       "      <th>2</th>\n",
       "      <td>2018-05-29</td>\n",
       "      <td>0.556084</td>\n",
       "      <td>0.610749</td>\n",
       "      <td>0.551635</td>\n",
       "      <td>0.601241</td>\n",
       "      <td>380744000.0</td>\n",
       "      <td>21792900000</td>\n",
       "    </tr>\n",
       "    <tr>\n",
       "      <th>3</th>\n",
       "      <td>2018-05-28</td>\n",
       "      <td>0.608368</td>\n",
       "      <td>0.609781</td>\n",
       "      <td>0.552299</td>\n",
       "      <td>0.552299</td>\n",
       "      <td>327903000.0</td>\n",
       "      <td>23841900000</td>\n",
       "    </tr>\n",
       "    <tr>\n",
       "      <th>4</th>\n",
       "      <td>2018-05-27</td>\n",
       "      <td>0.612040</td>\n",
       "      <td>0.612884</td>\n",
       "      <td>0.603328</td>\n",
       "      <td>0.607881</td>\n",
       "      <td>186963000.0</td>\n",
       "      <td>23985800000</td>\n",
       "    </tr>\n",
       "  </tbody>\n",
       "</table>\n",
       "</div>"
      ],
      "text/plain": [
       "        Date  xrp_Open*  xrp_High   xrp_Low  xrp_Close**   xrp_Volume  \\\n",
       "0 2018-05-31   0.603452  0.621636  0.596089     0.612622  283328000.0   \n",
       "1 2018-05-30   0.603769  0.627679  0.590058     0.605817  320605000.0   \n",
       "2 2018-05-29   0.556084  0.610749  0.551635     0.601241  380744000.0   \n",
       "3 2018-05-28   0.608368  0.609781  0.552299     0.552299  327903000.0   \n",
       "4 2018-05-27   0.612040  0.612884  0.603328     0.607881  186963000.0   \n",
       "\n",
       "   xrp_Market Cap  \n",
       "0     23649300000  \n",
       "1     23661700000  \n",
       "2     21792900000  \n",
       "3     23841900000  \n",
       "4     23985800000  "
      ]
     },
     "execution_count": 18,
     "metadata": {},
     "output_type": "execute_result"
    }
   ],
   "source": [
    "# checking top 5 rows for ripple in this case:\n",
    "xrp_data.head()"
   ]
  },
  {
   "cell_type": "code",
   "execution_count": 19,
   "metadata": {},
   "outputs": [
    {
     "data": {
      "text/html": [
       "<div>\n",
       "<style>\n",
       "    .dataframe thead tr:only-child th {\n",
       "        text-align: right;\n",
       "    }\n",
       "\n",
       "    .dataframe thead th {\n",
       "        text-align: left;\n",
       "    }\n",
       "\n",
       "    .dataframe tbody tr th {\n",
       "        vertical-align: top;\n",
       "    }\n",
       "</style>\n",
       "<table border=\"1\" class=\"dataframe\">\n",
       "  <thead>\n",
       "    <tr style=\"text-align: right;\">\n",
       "      <th></th>\n",
       "      <th>Date</th>\n",
       "      <th>btc_Open*</th>\n",
       "      <th>btc_High</th>\n",
       "      <th>btc_Low</th>\n",
       "      <th>btc_Close**</th>\n",
       "      <th>btc_Volume</th>\n",
       "      <th>btc_Market Cap</th>\n",
       "    </tr>\n",
       "  </thead>\n",
       "  <tbody>\n",
       "    <tr>\n",
       "      <th>1855</th>\n",
       "      <td>2013-05-02</td>\n",
       "      <td>116.38</td>\n",
       "      <td>125.60</td>\n",
       "      <td>92.28</td>\n",
       "      <td>105.21</td>\n",
       "      <td>0.0</td>\n",
       "      <td>1292190000</td>\n",
       "    </tr>\n",
       "    <tr>\n",
       "      <th>1856</th>\n",
       "      <td>2013-05-01</td>\n",
       "      <td>139.00</td>\n",
       "      <td>139.89</td>\n",
       "      <td>107.72</td>\n",
       "      <td>116.99</td>\n",
       "      <td>0.0</td>\n",
       "      <td>1542820000</td>\n",
       "    </tr>\n",
       "    <tr>\n",
       "      <th>1857</th>\n",
       "      <td>2013-04-30</td>\n",
       "      <td>144.00</td>\n",
       "      <td>146.93</td>\n",
       "      <td>134.05</td>\n",
       "      <td>139.00</td>\n",
       "      <td>0.0</td>\n",
       "      <td>1597780000</td>\n",
       "    </tr>\n",
       "    <tr>\n",
       "      <th>1858</th>\n",
       "      <td>2013-04-29</td>\n",
       "      <td>134.44</td>\n",
       "      <td>147.49</td>\n",
       "      <td>134.00</td>\n",
       "      <td>144.54</td>\n",
       "      <td>0.0</td>\n",
       "      <td>1491160000</td>\n",
       "    </tr>\n",
       "    <tr>\n",
       "      <th>1859</th>\n",
       "      <td>2013-04-28</td>\n",
       "      <td>135.30</td>\n",
       "      <td>135.98</td>\n",
       "      <td>132.10</td>\n",
       "      <td>134.21</td>\n",
       "      <td>0.0</td>\n",
       "      <td>1500520000</td>\n",
       "    </tr>\n",
       "  </tbody>\n",
       "</table>\n",
       "</div>"
      ],
      "text/plain": [
       "           Date  btc_Open*  btc_High  btc_Low  btc_Close**  btc_Volume  \\\n",
       "1855 2013-05-02     116.38    125.60    92.28       105.21         0.0   \n",
       "1856 2013-05-01     139.00    139.89   107.72       116.99         0.0   \n",
       "1857 2013-04-30     144.00    146.93   134.05       139.00         0.0   \n",
       "1858 2013-04-29     134.44    147.49   134.00       144.54         0.0   \n",
       "1859 2013-04-28     135.30    135.98   132.10       134.21         0.0   \n",
       "\n",
       "      btc_Market Cap  \n",
       "1855      1292190000  \n",
       "1856      1542820000  \n",
       "1857      1597780000  \n",
       "1858      1491160000  \n",
       "1859      1500520000  "
      ]
     },
     "execution_count": 19,
     "metadata": {},
     "output_type": "execute_result"
    }
   ],
   "source": [
    "# checking the bottom 5 rows: for bitcoin in this case\n",
    "btc_data.tail()"
   ]
  },
  {
   "cell_type": "code",
   "execution_count": 15,
   "metadata": {
    "collapsed": true
   },
   "outputs": [],
   "source": [
    "# converting to csv files: and downloading them\n",
    "# df.to_csv('crypto_data.csv') format: to be done individually for each of the 8 cryptocurrencies:\n",
    "btc_data.to_csv('btc_data.csv')\n",
    "eth_data.to_csv('eth_data.csv')\n",
    "xrp_data.to_csv('xrp_data.csv')\n",
    "ltc_data.to_csv('ltc_data.csv')\n",
    "xlm_data.to_csv('xlm_data.csv')\n",
    "xmr_data.to_csv('xmr_data.csv')\n",
    "dash_data.to_csv('dash_data.csv')\n",
    "xem_data.to_csv('xem_data.csv')"
   ]
  }
 ],
 "metadata": {
  "accelerator": "GPU",
  "colab": {
   "collapsed_sections": [],
   "default_view": {},
   "name": "lstm-crypto-price-prediction.ipynb",
   "provenance": [],
   "version": "0.3.2",
   "views": {}
  },
  "kernelspec": {
   "display_name": "Python 3",
   "language": "python",
   "name": "python3"
  },
  "language_info": {
   "codemirror_mode": {
    "name": "ipython",
    "version": 3
   },
   "file_extension": ".py",
   "mimetype": "text/x-python",
   "name": "python",
   "nbconvert_exporter": "python",
   "pygments_lexer": "ipython3",
   "version": "3.6.3"
  }
 },
 "nbformat": 4,
 "nbformat_minor": 2
}
